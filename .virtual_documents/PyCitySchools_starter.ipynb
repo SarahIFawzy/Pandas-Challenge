


# Dependencies and Setup
import pandas as pd
from pathlib import Path

# File to Load (Remember to Change These)
school_data_to_load = Path("Resources/schools_complete.csv")
student_data_to_load = Path("Resources/students_complete.csv")

# Read School and Student Data File and store into Pandas DataFrames
school_data = pd.read_csv(school_data_to_load)
student_data = pd.read_csv(student_data_to_load)

# Combine the data into a single dataset.
school_data_complete = pd.merge(student_data, school_data, how="left", on=["school_name", "school_name"])
school_data_complete.head()






# Calculate the total number of unique schools
school_count = school_data_complete["school_name"].nunique()
school_count



# Calculate the total number of students
student_count = school_data_complete["student_name"].count()
student_count


school_data['budget'].sum()


# Calculate the total budget
total_budget = school_data['budget'].sum()
total_budget


# Calculate the average (mean) math score
average_math_score = school_data_complete['math_score'].mean()
average_math_score


school_data_complete['reading_score'].mean()


# Calculate the average (mean) reading score
average_reading_score = school_data_complete['reading_score'].mean()
average_reading_score


# Use the following to calculate the percentage of students who passed math (math scores greather than or equal to 70)
passing_math_count = school_data_complete[(school_data_complete["math_score"] >= 70)].count()["student_name"]
passing_math_percentage = passing_math_count / float(student_count) * 100
passing_math_percentage


# Calculate the percentage of students who passed reading (hint: look at how the math percentage was calculated)
passing_reading_count = student_data[(student_data['reading_score']) >= 70].count()['student_name']
passing_reading_percentage = passing_reading_count / float(student_count) * 100
passing_reading_percentage


# Use the following to calculate the percentage of students that passed math and reading
passing_math_reading_count = school_data_complete[
    (school_data_complete["math_score"] >= 70) & (school_data_complete["reading_score"] >= 70)
].count()["student_name"]
overall_passing_rate = passing_math_reading_count /  float(student_count) * 100
overall_passing_rate


# Create a high-level snapshot of the district's key metrics in a DataFrame
district_summary = pd.DataFrame({'Number of Schools': [school_count], 
                                 'Total Students': [student_count],
                                 'Total Budget': [total_budget], 
                                 'Average Math Score': [average_math_score],
                                 'Math Pass Rate': [passing_math_percentage],
                                 'Average Reading Score': [average_reading_score], 
                                 'Reading Pass Rate': [passing_reading_percentage], 
                                 'Overall Pass Rate': [overall_passing_rate]})

# Formatting
district_summary["Total Students"] = district_summary["Total Students"].map("{:,}".format)
district_summary["Total Budget"] = district_summary["Total Budget"].map("${:,.2f}".format)
district_summary["Average Math Score"] = district_summary["Average Math Score"].map("{:,.1f}".format)
district_summary["Average Reading Score"] = district_summary["Average Reading Score"].map("{:,.1f}".format)
# district_summary["Math Pass Rate"] = district_summary["Math Pass Rate"].map("{:,.2f}%".format)
# district_summary["Reading Pass Rate"] = district_summary["Reading Pass Rate"].map("{:,.2f}%".format)
# district_summary["Overall Pass Rate"] = district_summary["Overall Pass Rate"].map("{:,.2f}%".format)

# Display the DataFrame
district_summary

district_summary.to_csv(r'PyCitySchools/Output_Analysis/District_Summary')





school_data.head()


school_data_complete.head()


# Use the code provided to select the type per school from school_data
school_types = school_data.set_index(["school_name"])["type"]
school_types



# Calculate the total student count per school from school_data
per_school_counts = school_data.set_index(["school_name"])["size"]
per_school_counts



# Calculate the total school budget and per capita spending per school from school_data
per_school_budget = school_data.set_index(['school_name'])['budget']
school_data['per_capita_budget'] = school_data['budget']/school_data['size']
per_school_capita = school_data.set_index(['school_name'])['per_capita_budget']
                                           

per_school_capita


school_data_complete.head()


# Calculate the average test scores per school from school_data_complete

per_school_math = school_data_complete.groupby('school_name')['math_score'].mean()
per_school_reading = school_data_complete.groupby('school_name')['reading_score'].mean()
per_school_reading


# Calculate the number of students per school with math scores of 70 or higher from school_data_complete

math_filter = school_data_complete.loc[:,"math_score"]>=70
school_students_passing_math = school_data_complete.loc[math_filter,:].groupby('school_name')['math_score'].count()
school_students_passing_math



# Calculate the number of students per school with reading scores of 70 or higher from school_data_complete

reading_filter = school_data_complete.loc[:,"reading_score"]>=70
school_students_passing_reading = school_data_complete.loc[reading_filter,:].groupby('school_name')['reading_score'].count()
school_students_passing_reading.head()



# Use the provided code to calculate the number of students per school that passed both math and reading with scores of 70 or higher
students_passing_math_and_reading = school_data_complete[
    (school_data_complete["reading_score"] >= 70) & (school_data_complete["math_score"] >= 70)
]
school_students_passing_math_and_reading = students_passing_math_and_reading.groupby(["school_name"]).size()
school_students_passing_math_and_reading.head()


# Use the provided code to calculate the passing rates
per_school_passing_math = school_students_passing_math / per_school_counts * 100
per_school_passing_reading = school_students_passing_reading / per_school_counts * 100
overall_passing_rate = school_students_passing_math_and_reading / per_school_counts * 100



# Create a DataFrame called `per_school_summary` with columns for the calculations above.
per_school_summary = pd.concat([school_types, per_school_counts, per_school_budget, per_school_capita, per_school_math, per_school_passing_math, per_school_reading, 
                                per_school_passing_reading, overall_passing_rate], axis=1)

per_school_summary = per_school_summary.rename(columns={"type": "School Type", "size": "Total Students", "budget": "Total Budget", "per_capita_budget": "Budget Per Student", 
                                                        'math_score': 'Average Math Score', 0: 'Math Pass Rate', 'reading_score': 'Average Reading Score', 1: 'Reading Pass Rate', 2: 'Overall Pass Rate'})

# Formatting
per_school_summary["Total Budget"] = per_school_summary["Total Budget"].map("${:,.2f}".format)
per_school_summary["Budget Per Student"] = per_school_summary["Budget Per Student"].map("${:,.2f}".format)
# per_school_summary["Average Math Score"] = per_school_summary["Average Math Score"].map("{:,.1f}".format)
# per_school_summary["Average Reading Score"] = per_school_summary["Average Reading Score"].map("{:,.1f}".format)
# per_school_summary["Math Pass Rate"] = per_school_summary["Math Pass Rate"].map("{:,.2f}%".format)
# per_school_summary["Reading Pass Rate"] = per_school_summary["Reading Pass Rate"].map("{:,.2f}%".format)
# per_school_summary["Overall Pass Rate"] = per_school_summary["Overall Pass Rate"].map("{:,.2f}%".format)

per_school_summary = per_school_summary.sort_index()

per_school_summary.index.name = None

# Display the DataFrame
per_school_summary

per_school_summary.to_csv(r'PyCitySchools/Output_Analysis/School_Summary')
                               





# Sort the schools by `% Overall Passing` in descending order and display the top 5 rows.
top_schools = per_school_summary.sort_values('Overall Pass Rate', ascending=False)
top_schools=top_schools.head(5)
top_schools.to_csv(r'PyCitySchools/Output_Analysis/Highest_Performing_Schools')
top_schools





# Sort the schools by `% Overall Passing` in ascending order and display the top 5 rows.
bottom_schools = per_school_summary.sort_values('Overall Pass Rate')
bottom_schools=bottom_schools.head(5)

bottom_schools.to_csv(r'PyCitySchools/Output_Analysis/Lowest_Performing_Schools')
bottom_schools





school_data_complete.head()


# Use the code provided to separate the data by grade
ninth_graders = school_data_complete[(school_data_complete["grade"] == "9th")]
tenth_graders = school_data_complete[(school_data_complete["grade"] == "10th")]
eleventh_graders = school_data_complete[(school_data_complete["grade"] == "11th")]
twelfth_graders = school_data_complete[(school_data_complete["grade"] == "12th")]

# Group by `school_name` and take the mean of the `math_score` column for each.
ninth_grade_math_scores = ninth_graders.groupby('school_name')['math_score'].mean()
tenth_grader_math_scores = tenth_graders.groupby('school_name')['math_score'].mean()
eleventh_grader_math_scores = eleventh_graders.groupby('school_name')['math_score'].mean()
twelfth_grader_math_scores = twelfth_graders.groupby('school_name')['math_score'].mean()

# Combine each of the scores above into single DataFrame called `math_scores_by_grade`
math_scores_by_grade = pd.concat([ninth_grade_math_scores, tenth_grader_math_scores, eleventh_grader_math_scores, twelfth_grader_math_scores], axis=1)

# Minor data wrangling
math_scores_by_grade.columns = ["9th", "10th", "11th", "12th"]
math_scores_by_grade.index.name = None


math_scores_by_grade.to_csv(r'PyCitySchools/Output_Analysis/Math_Scores_By_Grade')

# Display the DataFrame
math_scores_by_grade





# Use the code provided to separate the data by grade
ninth_graders = school_data_complete[(school_data_complete["grade"] == "9th")]
tenth_graders = school_data_complete[(school_data_complete["grade"] == "10th")]
eleventh_graders = school_data_complete[(school_data_complete["grade"] == "11th")]
twelfth_graders = school_data_complete[(school_data_complete["grade"] == "12th")]

# Group by `school_name` and take the mean of the the `reading_score` column for each.
ninth_grade_reading_scores = ninth_graders.groupby('school_name')['reading_score'].mean()
tenth_grader_reading_scores = tenth_graders.groupby('school_name')['reading_score'].mean()
eleventh_grader_reading_scores = eleventh_graders.groupby('school_name')['reading_score'].mean()
twelfth_grader_reading_scores = twelfth_graders.groupby('school_name')['reading_score'].mean()

# Combine each of the scores above into single DataFrame called `reading_scores_by_grade`
reading_scores_by_grade = pd.concat([ninth_grade_reading_scores, tenth_grader_reading_scores, eleventh_grader_reading_scores, twelfth_grader_reading_scores], axis=1)

# Minor data wrangling
reading_scores_by_grade.columns=["9th", "10th", "11th", "12th"]
reading_scores_by_grade.index.name = None

reading_scores_by_grade.to_csv(r'PyCitySchools/Output_Analysis/Reading_Scores_By_Grade')

# Display the DataFrame
reading_scores_by_grade






# Establish the bins
spending_bins = [0, 585, 630, 645, 680]
labels = ["<$585", "$585-630", "$630-645", "$645-680"]


# Create a copy of the school summary since it has the "Per Student Budget"
school_spending_df = per_school_summary.copy()



# Use `pd.cut` to categorize spending based on the bins.
school_spending_df["Spending Ranges (Per Student)"] = pd.cut(per_school_capita,
                                                             spending_bins,labels=labels, include_lowest=True)



school_spending_df



import warnings
warnings.simplefilter(action='ignore', category=FutureWarning)


#  Calculate averages for the desired columns.
spending_math_scores = school_spending_df.groupby(["Spending Ranges (Per Student)"])["Average Math Score"].mean()
spending_reading_scores = school_spending_df.groupby(["Spending Ranges (Per Student)"])["Average Reading Score"].mean()
spending_passing_math = school_spending_df.groupby(["Spending Ranges (Per Student)"])["Math Pass Rate"].mean()
spending_passing_reading = school_spending_df.groupby(["Spending Ranges (Per Student)"])["Reading Pass Rate"].mean()
overall_passing_spending = school_spending_df.groupby(["Spending Ranges (Per Student)"])["Overall Pass Rate"].mean()



# Assemble into DataFrame
spending_summary = pd.concat([spending_math_scores, spending_reading_scores, spending_passing_math, spending_passing_reading, overall_passing_spending], axis=1)

spending_summary.columns=["Average Math Score", "Average Reading Score", "Math Pass Rate", "Reading Pass Rate", "Overall Pass Rate"]
# reading_scores_by_grade.index.name = None

spending_summary.to_csv(r'PyCitySchools/Output_Analysis/Scores by School Spend')

# Display results
spending_summary






# Establish the bins.
size_bins = [0, 1000, 2000, 5000]
labels = ["Small (<1000)", "Medium (1000-2000)", "Large (2000-5000)"]



# Categorize the spending based on the bins
# Use `pd.cut` on the "Total Students" column of the `per_school_summary` DataFrame.

per_school_summary["School Size"] = pd.cut(per_school_summary['Total Students'],
                                    size_bins,labels=labels, include_lowest=True)
per_school_summary






# Calculate averages for the desired columns.
size_math_scores = per_school_summary.groupby(["School Size"])["Average Math Score"].mean()
size_reading_scores = per_school_summary.groupby(["School Size"])["Average Reading Score"].mean()
size_passing_math = per_school_summary.groupby(["School Size"])["Math Pass Rate"].mean()
size_passing_reading = per_school_summary.groupby(["School Size"])["Reading Pass Rate"].mean()
size_overall_passing = per_school_summary.groupby(["School Size"])["Overall Pass Rate"].mean()



# Create a DataFrame called `size_summary` that breaks down school performance based on school size (small, medium, or large).
# Use the scores above to create a new DataFrame called `size_summary`
size_summary = pd.concat([size_math_scores, size_reading_scores, size_passing_math, size_passing_reading, size_overall_passing], axis=1)

size_summary.columns=["Average Math Score", "Average Reading Score", "Math Pass Rate", "Reading Pass Rate", "Overall Pass Rate"]

size_summary.to_csv(r'PyCitySchools/Output_Analysis/Scores by School Size')

# Display results
size_summary






# Group the per_school_summary DataFrame by "School Type" and average the results.
average_math_score_by_type = per_school_summary.groupby(["School Type"])["Average Math Score"].mean()
average_reading_score_by_type = per_school_summary.groupby(["School Type"])["Average Reading Score"].mean()
average_percent_passing_math_by_type = per_school_summary.groupby(["School Type"])["Math Pass Rate"].mean()
average_percent_passing_reading_by_type = per_school_summary.groupby(["School Type"])["Reading Pass Rate"].mean()
average_percent_overall_passing_by_type = per_school_summary.groupby(["School Type"])["Overall Pass Rate"].mean()



# Assemble the new data by type into a DataFrame called `type_summary`
type_summary = pd.concat([average_math_score_by_type, average_reading_score_by_type, average_percent_passing_math_by_type, average_percent_passing_reading_by_type, average_percent_overall_passing_by_type], axis=1)

type_summary.columns=["Average Math Score", "Average Reading Score", "Math Pass Rate", "Reading Pass Rate", "Overall Pass Rate"]

type_summary.to_csv(r'PyCitySchools/Output_Analysis/Scores by School Type')

# Display results
type_summary




